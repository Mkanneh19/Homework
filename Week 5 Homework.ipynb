{
  "metadata": {
    "kernelspec": {
      "name": "python",
      "display_name": "Python (Pyodide)",
      "language": "python"
    },
    "language_info": {
      "codemirror_mode": {
        "name": "python",
        "version": 3
      },
      "file_extension": ".py",
      "mimetype": "text/x-python",
      "name": "python",
      "nbconvert_exporter": "python",
      "pygments_lexer": "ipython3",
      "version": "3.8"
    }
  },
  "nbformat_minor": 4,
  "nbformat": 4,
  "cells": [
    {
      "cell_type": "markdown",
      "source": "1. What does Pandas stand for?\n\n- Panel data or Python data analysis.",
      "metadata": {}
    },
    {
      "cell_type": "markdown",
      "source": "2. What are the 2 collections used in Pandas?\n\n- Series and Dataframes.",
      "metadata": {}
    },
    {
      "cell_type": "markdown",
      "source": "3. Name 4 things Pandas can do for us.\n - load\n - manipulate\n - prepare\n - model",
      "metadata": {}
    },
    {
      "cell_type": "markdown",
      "source": "4. To permanently sort a DataFrame, which keyword should one use with the `df.sort()` method?\n\n   - inplace",
      "metadata": {}
    },
    {
      "cell_type": "markdown",
      "source": "5. What is a CSV?\n  - Comma Separated Value",
      "metadata": {}
    },
    {
      "cell_type": "markdown",
      "source": "6. When cleaning data what values do we not like in our data?\n  - We don't like NULL values.",
      "metadata": {}
    },
    {
      "cell_type": "code",
      "source": "#Import NumPy, use one of the NumPy methods and create an array with a shape of (2, 3, 2). You can use the reshape method -- .reshape()\n\nimport numpy as np\n\narr = np.arange(12)\n\narr_reshaped = arr.reshape(2, 3, 2)\n\nprint(arr_reshaped)\n",
      "metadata": {
        "trusted": true
      },
      "outputs": [
        {
          "name": "stdout",
          "text": "[[[ 0  1]\n  [ 2  3]\n  [ 4  5]]\n\n [[ 6  7]\n  [ 8  9]\n  [10 11]]]\n",
          "output_type": "stream"
        }
      ],
      "execution_count": 2
    },
    {
      "cell_type": "code",
      "source": "#Use NumPy .linspace() to create an array with 6 linearly spaced values between 0 and 20\n\nimport numpy as np\n\narr = np.linspace(0, 20, 6)\n\nprint(arr)\n",
      "metadata": {
        "trusted": true
      },
      "outputs": [
        {
          "name": "stdout",
          "text": "[ 0.  4.  8. 12. 16. 20.]\n",
          "output_type": "stream"
        }
      ],
      "execution_count": 3
    },
    {
      "cell_type": "code",
      "source": "# Make a Deep Copy of the above array\n\noriginal_arr = np.linspace(0, 20, 6)\n\ndeep_copy_arr = original_arr.copy()\n\nprint(deep_copy_arr)",
      "metadata": {
        "trusted": true
      },
      "outputs": [
        {
          "name": "stdout",
          "text": "[ 0.  4.  8. 12. 16. 20.]\n",
          "output_type": "stream"
        }
      ],
      "execution_count": 9
    },
    {
      "cell_type": "code",
      "source": "#Concatenate these 3 arrays into a new array named 'newArray'...\n\n       # ([[25, 16]])\n       # ([[11, 2], [13, 4]])\n       # ([[7, 81], [5, 6], [11, 12]])\n\nimport numpy as np\n\narray1 = np.array([[25, 16]])\narray2 = np.array([[11, 2], [13, 4]])\narray3 = np.array([[7, 81], [5, 6], [11, 12]])\n\nnewArray = np.concatenate((array1, array2, array3), axis=0)\nprint(newArray)\n",
      "metadata": {
        "trusted": true
      },
      "outputs": [
        {
          "name": "stdout",
          "text": "[[25 16]\n [11  2]\n [13  4]\n [ 7 81]\n [ 5  6]\n [11 12]]\n",
          "output_type": "stream"
        }
      ],
      "execution_count": 15
    },
    {
      "cell_type": "code",
      "source": "#Sort 'newArray' in order into 'sortedArray'\n\nsortedArray = np.sort(newArray, axis=0)\nprint(sortedArray)\n",
      "metadata": {
        "trusted": true
      },
      "outputs": [
        {
          "name": "stdout",
          "text": "[[ 5  2]\n [ 7  4]\n [11  6]\n [11 12]\n [13 16]\n [25 81]]\n",
          "output_type": "stream"
        }
      ],
      "execution_count": 16
    },
    {
      "cell_type": "code",
      "source": "#Unpack the array tuples from the above 'reshapedArray' into 4 well named variables. Print the 4 variables.\n\nvar1, var2, var3, var4 = reshapedArray\nprint(var1)\nprint(var2)\nprint(var3)\nprint(var4)\n",
      "metadata": {
        "trusted": true
      },
      "outputs": [
        {
          "ename": "<class 'NameError'>",
          "evalue": "name 'reshapedArray' is not defined",
          "traceback": [
            "\u001b[0;31m---------------------------------------------------------------------------\u001b[0m",
            "\u001b[0;31mNameError\u001b[0m                                 Traceback (most recent call last)",
            "Cell \u001b[0;32mIn[4], line 3\u001b[0m\n\u001b[1;32m      1\u001b[0m \u001b[38;5;66;03m#Unpack the array tuples from the above 'reshapedArray' into 4 well named variables. Print the 4 variables.\u001b[39;00m\n\u001b[0;32m----> 3\u001b[0m var1, var2, var3, var4 \u001b[38;5;241m=\u001b[39m \u001b[43mreshapedArray\u001b[49m\n\u001b[1;32m      4\u001b[0m \u001b[38;5;28mprint\u001b[39m(var1)\n\u001b[1;32m      5\u001b[0m \u001b[38;5;28mprint\u001b[39m(var2)\n",
            "\u001b[0;31mNameError\u001b[0m: name 'reshapedArray' is not defined"
          ],
          "output_type": "error"
        }
      ],
      "execution_count": 4
    },
    {
      "cell_type": "code",
      "source": "#Combined and sort the following arrays into one called 'comboArray' ...\n\n    #one = ([10, 11, 12, 13, 14, 15, 16, 17])\n    #two = ([20, 21, 22, 23, 24, 25, 26, 27])\n    #three = ([ 0, 1, 2, 3, 4, 5, 6, 7])\n\none = np.array([10, 11, 12, 13, 14, 15, 16, 17])\ntwo = np.array([20, 21, 22, 23, 24, 25, 26, 27])\nthree = np.array([ 0, 1, 2, 3, 4, 5, 6, 7])\n\ncomboArray = np.concatenate((one, two, three), axis = 0)\nprint(comboArray)\n\ncomboArray = np.sort(comboArray)\nprint(comboArray)",
      "metadata": {
        "trusted": true
      },
      "outputs": [
        {
          "name": "stdout",
          "text": "[10 11 12 13 14 15 16 17 20 21 22 23 24 25 26 27  0  1  2  3  4  5  6  7]\n[ 0  1  2  3  4  5  6  7 10 11 12 13 14 15 16 17 20 21 22 23 24 25 26 27]\n",
          "output_type": "stream"
        }
      ],
      "execution_count": 5
    },
    {
      "cell_type": "code",
      "source": "#Take 'comboArray' and perform the following slicing activities:\n\nprint(comboArray[2])\n\nprint(comboArray[3:])\n\nprint(comboArray[4:15])\n\nprint(comboArray[-6:24])\n\nprint(comboArray[:-10])\n\nprint(comboArray[16:27:2])\n\nprint(comboArray[::-5])",
      "metadata": {
        "trusted": true
      },
      "outputs": [
        {
          "name": "stdout",
          "text": "2\n[ 3  4  5  6  7 10 11 12 13 14 15 16 17 20 21 22 23 24 25 26 27]\n[ 4  5  6  7 10 11 12 13 14 15 16]\n[22 23 24 25 26 27]\n[ 0  1  2  3  4  5  6  7 10 11 12 13 14 15]\n[20 22 24 26]\n[27 22 15 10  3]\n",
          "output_type": "stream"
        }
      ],
      "execution_count": 6
    },
    {
      "cell_type": "code",
      "source": "#Using Series, create a DataFrame that looks like this:\n\nimport numpy as np\nimport pandas as pd\n\ningredients = pd.Series(['Flour', 'Milk', 'Eggs', 'Spam'], name= 'Ingredients')\nquantity = pd.Series([4, 1, 2, 1], name= 'Quantity')\nunit = pd.Series(['cups', 'cup', 'large', 'can'], name= 'unit')\n\nbrunch = pd.concat([ingredients, quantity, unit], axis=1)\nprint(brunch)",
      "metadata": {
        "trusted": true,
        "scrolled": true
      },
      "outputs": [
        {
          "name": "stdout",
          "text": "  Ingredients  Quantity   unit\n0       Flour         4   cups\n1        Milk         1    cup\n2        Eggs         2  large\n3        Spam         1    can\n",
          "output_type": "stream"
        }
      ],
      "execution_count": 12
    },
    {
      "cell_type": "code",
      "source": "#Take this data and create a DataFrame named studentData\n\nimport pandas as pd\n\ndata = {\n    'Name': ['Jai', 'janusha', 'Gaurav', 'Anuj'],\n    'Height': [5.1, 6.2, 5.1, 5.2],\n    'Qualification': ['Msc', 'MA', 'Msc', 'Msc'],\n    'address': ['Delhi', 'Doha', 'Chennai', 'Dakhar'],\n    'Age': [21, 23, 24, 21],\n    'Pets': ['Dog', 'Bunny', 'Chinchilla', 'Parrot'],\n    'sport': ['Darts', 'Basketball', 'PaddleBoarding', 'Cricket']\n}\n\nstudentData = pd.DataFrame(data)\nprint(studentData)",
      "metadata": {
        "trusted": true
      },
      "outputs": [],
      "execution_count": null
    },
    {
      "cell_type": "code",
      "source": "#Add a new column to the DataFrame with the following deserts: [\"ice cream\", \"Cashew Fudge\", \"waffels\", \"Carrot Halwa\"]\n\n #Create DataFrame\nstudentData = pd.DataFrame(data)\n\n# New column with desserts\nstudentData['Deserts'] = [\"ice cream\", \"Cashew Fudge\", \"waffles\", \"Carrot Halwa\"]\n\nprint(studentData)",
      "metadata": {
        "trusted": true,
        "scrolled": true
      },
      "outputs": [
        {
          "name": "stdout",
          "text": "      Name  Height Qualification  address  Age        Pets           sport  \\\n0      Jai     5.1           Msc    Delhi   21         Dog           Darts   \n1  janusha     6.2            MA     Doha   23       Bunny      Basketball   \n2   Gaurav     5.1           Msc  Chennai   24  Chinchilla  PaddleBoarding   \n3     Anuj     5.2           Msc   Dakhar   21      Parrot         Cricket   \n\n        Deserts  \n0     ice cream  \n1  Cashew Fudge  \n2       waffles  \n3  Carrot Halwa  \n",
          "output_type": "stream"
        }
      ],
      "execution_count": 17
    },
    {
      "cell_type": "code",
      "source": "#Sort the 'studentData' DataFrame in Ascending order -- Sorting by column 'Name' and then \"address\"\n\nstudentData.sort_values(by= ['Name', 'address'], inplace=True)\nstudentData",
      "metadata": {
        "trusted": true
      },
      "outputs": [],
      "execution_count": null
    },
    {
      "cell_type": "code",
      "source": "#Save this DataFrame here below to disc as a .CSV file with the name cows_and_goats.csv:\n\nimport pandas as pd\n\ndf = pd.DataFrame({'Cows': [12, 20], 'Goats': [22, 19]}, index=['Year 1', 'Year 2'])\ndf.to_csv('cows_and_goats.csv')\ndf =pd.read_csv(\"cows_and_goats.csv\")\ndf ",
      "metadata": {
        "trusted": true
      },
      "outputs": [],
      "execution_count": null
    },
    {
      "cell_type": "code",
      "source": "#Using Pandas, make your own .CSV file with data on vegetables and save it. Using Pandas, make a change to your CSV file, and save a copy with a different name\nimport pandas as pd\n\nveggies = pd.DataFrame({'corn': [35, 536], 'radishes': [23, 310]}, index=['small farm', 'big farm'])\nveggies.to_csv('veggies.csv')\n\nveggies = pd.read_csv('veggies.csv')\nprint(veggies)",
      "metadata": {
        "trusted": true
      },
      "outputs": [],
      "execution_count": null
    }
  ]
}