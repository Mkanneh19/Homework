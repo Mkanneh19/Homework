{
  "metadata": {
    "kernelspec": {
      "name": "python",
      "display_name": "Python (Pyodide)",
      "language": "python"
    },
    "language_info": {
      "codemirror_mode": {
        "name": "python",
        "version": 3
      },
      "file_extension": ".py",
      "mimetype": "text/x-python",
      "name": "python",
      "nbconvert_exporter": "python",
      "pygments_lexer": "ipython3",
      "version": "3.8"
    }
  },
  "nbformat_minor": 4,
  "nbformat": 4,
  "cells": [
    {
      "cell_type": "markdown",
      "source": "## 1. To use a module, you need to import a statement. \n## 2. A module is a collection of code or functions. A math module does mathimatical tasks. ",
      "metadata": {}
    },
    {
      "cell_type": "code",
      "source": "import math\n\nnumber = 15678\nsquare_root = math.sqrt(number)\n\nprint(f\"The square root of {number} is: {square_root}\")",
      "metadata": {
        "trusted": true
      },
      "outputs": [
        {
          "name": "stdout",
          "text": "The square root of 15678 is: 125.21182052825525\n",
          "output_type": "stream"
        }
      ],
      "execution_count": 31
    },
    {
      "cell_type": "code",
      "source": "import math\nprint (\"print PI ...\", math.pi)",
      "metadata": {
        "trusted": true
      },
      "outputs": [
        {
          "name": "stdout",
          "text": "print PI ... 3.141592653589793\n",
          "output_type": "stream"
        }
      ],
      "execution_count": 11
    },
    {
      "cell_type": "markdown",
      "source": "## 3. The benefit of using exception handing is that it can identify errors. ",
      "metadata": {}
    },
    {
      "cell_type": "markdown",
      "source": "## 4. The four components used for Python Exception Handling\n* The try block lets you test a block of code for errors.\n\n* The except block lets you handle the error.\n\n* The else block lets you execute code when there is no error.\n\n* The finally block lets you execute code, regardless of the result of the try- and except blocks.",
      "metadata": {}
    },
    {
      "cell_type": "markdown",
      "source": "## 5. Numpy arrays are like Python lists. The major difference is that NumPy array elements are homogeneous -- of the same or a similar kind or nature.\n\n## 6. One of the main benefits of using NumPy arrays is that it requires less memory as compared to list, making it faster and more conventient. \n\n## 7. The main requirements about the 'dtype' of NumPy arrays is that it has to have some type of data.\n\n## 8. NumPy can be used for array creation and mathimatical operations. \n\n## 9. One of the other libraries we'll use with NumPy is matplotlib.\n\n## 10. The shape of a NumPy array refers to the dimensions of the array. \n* .ndim() - Finds number of dimensions\n* .shape() - Finds entire shape (dimensions, rows, columns)\n* .size() - Finds ALL elements\n* .len() - Returns ONLY the size of the 1st dimension\n\n## 11. A tensor is an array with 3+ dimsions. \n\n## 12. It's better using NumPy for Data Analysis than using a Python List because it occupies less memory, faster, and is more convenient. \n\n## 13. When creating an \"empty\" array, the elements come from the memory allocated for the array. You have to fill every element afterward.\n\n",
      "metadata": {}
    },
    {
      "cell_type": "code",
      "source": "age = 56\n\nif age >= 25:\n    print(\"Renting a car is more affordable.\")\nelse:\n    print(\"Renting a car is very expensive.\")\n",
      "metadata": {
        "trusted": true
      },
      "outputs": [
        {
          "name": "stdout",
          "text": "Renting a car is more affordable.\n",
          "output_type": "stream"
        }
      ],
      "execution_count": 32
    },
    {
      "cell_type": "code",
      "source": "age = 18\n\nif age >= 25:\n    print(\"Renting a car is more affordable.\")\nelif age >= 18:\n    print(\"Renting a car is very expensive.\")\nelse:\n    print(\"You cannot legally rent a car.\")\n",
      "metadata": {
        "trusted": true
      },
      "outputs": [
        {
          "name": "stdout",
          "text": "Renting a car is very expensive.\n",
          "output_type": "stream"
        }
      ],
      "execution_count": 33
    },
    {
      "cell_type": "code",
      "source": "input_string = \"The quick brown fox jumps over the lazy dog\"\n\ncharacter_count = len(input_string)\nprint(f\"Total characters in the string: {character_count}\")\n\nvowels = \"aeiouAEIOU\"\nvowel_list = [char for char in input_string if char in vowels]\nvowel_string = ''.join(vowel_list)\nprint(f\"Vowels in the string: {vowel_string}\")\n",
      "metadata": {
        "trusted": true
      },
      "outputs": [
        {
          "name": "stdout",
          "text": "Total characters in the string: 43\nVowels in the string: euioouoeeao\n",
          "output_type": "stream"
        }
      ],
      "execution_count": 34
    },
    {
      "cell_type": "code",
      "source": "couture = [\"trousers\", \"blouse\", \"bandana\", \"cumber band\", \"blazer\", \"vest\", \"french beret\", \"scarf\", \"stole\"]\npanettone = {\"cerise\", \"fuchsia\", \"aqua\", \"maple\", \"auburn\", \"burnt sienna\", \"gunmetal blue\", \"Dark Sapphire\"}\n\nfor clothing_item in couture:\n    for color in panettone:\n        print(f\"{clothing_item} in {color}\")\n",
      "metadata": {
        "trusted": true
      },
      "outputs": [
        {
          "name": "stdout",
          "text": "trousers in auburn\ntrousers in fuchsia\ntrousers in Dark Sapphire\ntrousers in aqua\ntrousers in cerise\ntrousers in gunmetal blue\ntrousers in maple\ntrousers in burnt sienna\nblouse in auburn\nblouse in fuchsia\nblouse in Dark Sapphire\nblouse in aqua\nblouse in cerise\nblouse in gunmetal blue\nblouse in maple\nblouse in burnt sienna\nbandana in auburn\nbandana in fuchsia\nbandana in Dark Sapphire\nbandana in aqua\nbandana in cerise\nbandana in gunmetal blue\nbandana in maple\nbandana in burnt sienna\ncumber band in auburn\ncumber band in fuchsia\ncumber band in Dark Sapphire\ncumber band in aqua\ncumber band in cerise\ncumber band in gunmetal blue\ncumber band in maple\ncumber band in burnt sienna\nblazer in auburn\nblazer in fuchsia\nblazer in Dark Sapphire\nblazer in aqua\nblazer in cerise\nblazer in gunmetal blue\nblazer in maple\nblazer in burnt sienna\nvest in auburn\nvest in fuchsia\nvest in Dark Sapphire\nvest in aqua\nvest in cerise\nvest in gunmetal blue\nvest in maple\nvest in burnt sienna\nfrench beret in auburn\nfrench beret in fuchsia\nfrench beret in Dark Sapphire\nfrench beret in aqua\nfrench beret in cerise\nfrench beret in gunmetal blue\nfrench beret in maple\nfrench beret in burnt sienna\nscarf in auburn\nscarf in fuchsia\nscarf in Dark Sapphire\nscarf in aqua\nscarf in cerise\nscarf in gunmetal blue\nscarf in maple\nscarf in burnt sienna\nstole in auburn\nstole in fuchsia\nstole in Dark Sapphire\nstole in aqua\nstole in cerise\nstole in gunmetal blue\nstole in maple\nstole in burnt sienna\n",
          "output_type": "stream"
        }
      ],
      "execution_count": 35
    },
    {
      "cell_type": "code",
      "source": "sum_result = 0\n\nfor number in range(1, 101):\n    sum_result += number\n\nprint(f\"The sum of numbers from 1 to 100 is: {sum_result}\")\n",
      "metadata": {
        "trusted": true
      },
      "outputs": [
        {
          "name": "stdout",
          "text": "The sum of numbers from 1 to 100 is: 5050\n",
          "output_type": "stream"
        }
      ],
      "execution_count": 36
    },
    {
      "cell_type": "code",
      "source": "fruits = [\"apple\", \"banana\", \"cherry\"]\n\nprint(f\"The second item in the fruits list is: {fruits[1]}\")\n",
      "metadata": {
        "trusted": true
      },
      "outputs": [
        {
          "name": "stdout",
          "text": "The second item in the fruits list is: banana\n",
          "output_type": "stream"
        }
      ],
      "execution_count": 37
    },
    {
      "cell_type": "code",
      "source": "fruits = [\"apple\", \"banana\", \"cherry\"]\n\nfruits[0] = \"kiwi\"\n\nprint(f\"The updated fruits list is: {fruits}\")\n",
      "metadata": {
        "trusted": true
      },
      "outputs": [
        {
          "name": "stdout",
          "text": "The updated fruits list is: ['kiwi', 'banana', 'cherry']\n",
          "output_type": "stream"
        }
      ],
      "execution_count": 38
    },
    {
      "cell_type": "code",
      "source": "fruits = [\"apple\", \"banana\", \"cherry\"]\n\nfruits.append(\"orange\")\n\nprint(f\"The updated fruits list is: {fruits}\")\n",
      "metadata": {
        "trusted": true
      },
      "outputs": [
        {
          "name": "stdout",
          "text": "The updated fruits list is: ['apple', 'banana', 'cherry', 'orange']\n",
          "output_type": "stream"
        }
      ],
      "execution_count": 39
    },
    {
      "cell_type": "code",
      "source": "fruits = [\"apple\", \"banana\", \"cherry\"]\n\nfruits.insert(1, \"lemon\")\n\nprint(f\"The updated fruits list is: {fruits}\")\n",
      "metadata": {
        "trusted": true
      },
      "outputs": [
        {
          "name": "stdout",
          "text": "The updated fruits list is: ['apple', 'lemon', 'banana', 'cherry']\n",
          "output_type": "stream"
        }
      ],
      "execution_count": 40
    },
    {
      "cell_type": "code",
      "source": "fruits = [\"apple\", \"banana\", \"cherry\"]\n\nfruits.remove(\"banana\")\n\nprint(f\"The updated fruits list is: {fruits}\")\n",
      "metadata": {
        "trusted": true
      },
      "outputs": [
        {
          "name": "stdout",
          "text": "The updated fruits list is: ['apple', 'cherry']\n",
          "output_type": "stream"
        }
      ],
      "execution_count": 41
    },
    {
      "cell_type": "code",
      "source": "fruits = [\"apple\", \"banana\", \"cherry\", \"orange\", \"kiwi\", \"melon\", \"mango\"]\n\nthird_item = fruits[2]\nsecond_to_last_item = fruits[-2]\n\nprint(f\"The 3rd item in the list is: {third_item}\")\nprint(f\"The 2nd to last item in the list is: {second_to_last_item}\")\n",
      "metadata": {
        "trusted": true
      },
      "outputs": [
        {
          "name": "stdout",
          "text": "The 3rd item in the list is: cherry\nThe 2nd to last item in the list is: melon\n",
          "output_type": "stream"
        }
      ],
      "execution_count": 42
    },
    {
      "cell_type": "code",
      "source": "fruits = [\"apple\", \"banana\", \"cherry\", \"orange\", \"kiwi\", \"melon\", \"mango\"]\n\nselected_items = fruits[2:5]\n\nprint(f\"The selected items are: {selected_items}\")\n",
      "metadata": {
        "trusted": true
      },
      "outputs": [
        {
          "name": "stdout",
          "text": "The selected items are: ['cherry', 'orange', 'kiwi']\n",
          "output_type": "stream"
        }
      ],
      "execution_count": 43
    },
    {
      "cell_type": "code",
      "source": "fruits = [\"apple\", \"banana\", \"cherry\", \"orange\", \"kiwi\", \"melon\", \"mango\"]\n\nnumber_of_items = len(fruits)\n\nprint(f\"The number of items in the list is: {number_of_items}\")\n",
      "metadata": {
        "trusted": true
      },
      "outputs": [
        {
          "name": "stdout",
          "text": "The number of items in the list is: 7\n",
          "output_type": "stream"
        }
      ],
      "execution_count": 44
    },
    {
      "cell_type": "code",
      "source": "fruits = [\"apple\", \"banana\", \"cherry\", \"orange\", \"kiwi\", \"melon\", \"mango\"]\n\nfruits.sort(reverse=True)\n\nprint(f\"The list in reverse order is: {fruits}\")\n",
      "metadata": {
        "trusted": true
      },
      "outputs": [
        {
          "name": "stdout",
          "text": "The list in reverse order is: ['orange', 'melon', 'mango', 'kiwi', 'cherry', 'banana', 'apple']\n",
          "output_type": "stream"
        }
      ],
      "execution_count": 45
    },
    {
      "cell_type": "code",
      "source": "from datetime import datetime\n\ncurrent_datetime = datetime.now()\n\nfull_month_name = current_datetime.strftime('%B')\n\nprint(f\"Current Date and Time: {current_datetime}\")\nprint(f\"Full Month Name: {full_month_name}\")\n",
      "metadata": {
        "trusted": true
      },
      "outputs": [
        {
          "name": "stdout",
          "text": "Current Date and Time: 2024-02-05 17:49:09.147000\nFull Month Name: February\n",
          "output_type": "stream"
        }
      ],
      "execution_count": 46
    },
    {
      "cell_type": "code",
      "source": "def greet_person(name, day='Sunday'):\n    \"\"\"Print a greeting with the given name and day.\"\"\"\n    print(f\"Hello {name}! Have a wonderful {day}!\")\n\ngreet_person(\"Madoyan\", \"Jamie\")\n\n\ngreet_person(\"Erica\")\n",
      "metadata": {
        "trusted": true
      },
      "outputs": [
        {
          "name": "stdout",
          "text": "Hello Madoyan! Have a wonderful Jamie!\nHello Erica! Have a wonderful Sunday!\n",
          "output_type": "stream"
        }
      ],
      "execution_count": 47
    },
    {
      "cell_type": "code",
      "source": "def divide_numbers(num1, num2):\n    try:\n        result = num1 / num2\n    except ZeroDivisionError:\n        print(\"Error: Cannot divide by zero.\")\n    else:\n        print(f\"The result of the division is: {result}\")\n    finally:\n        print(\"This block always executes, regardless of the result.\")\n\ndivide_numbers(10, 0)\n\ndivide_numbers(15, 3)\n",
      "metadata": {
        "trusted": true
      },
      "outputs": [
        {
          "name": "stdout",
          "text": "Error: Cannot divide by zero.\nThis block always executes, regardless of the result.\nThe result of the division is: 5.0\nThis block always executes, regardless of the result.\n",
          "output_type": "stream"
        }
      ],
      "execution_count": 48
    },
    {
      "cell_type": "code",
      "source": "",
      "metadata": {
        "trusted": true
      },
      "outputs": [],
      "execution_count": null
    },
    {
      "cell_type": "code",
      "source": "",
      "metadata": {
        "trusted": true
      },
      "outputs": [],
      "execution_count": null
    }
  ]
}