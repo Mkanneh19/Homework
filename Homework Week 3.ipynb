{
  "metadata": {
    "kernelspec": {
      "name": "python",
      "display_name": "Python (Pyodide)",
      "language": "python"
    },
    "language_info": {
      "codemirror_mode": {
        "name": "python",
        "version": 3
      },
      "file_extension": ".py",
      "mimetype": "text/x-python",
      "name": "python",
      "nbconvert_exporter": "python",
      "pygments_lexer": "ipython3",
      "version": "3.8"
    }
  },
  "nbformat_minor": 4,
  "nbformat": 4,
  "cells": [
    {
      "cell_type": "markdown",
      "source": "Python algorithms provide a detailed set of instructions by which you can process data for a specific purpose. \nA variable name cannot start with a number or contain reserved words, which are already built into Python. \nA semantic error is when the program you wrote is not the program you wanted to write. The meaning of the program is wrong.\nThe number 1 rule of coding/debuggign is to understand the system. \nSome reserved words are None, else, nonlocal, elif, and  except. \n",
      "metadata": {}
    },
    {
      "cell_type": "code",
      "source": "\"\"\"\nName: Madoyan\nFavorite Food: Sushi\nDream Job: Get paid to sleep.\n\"\"\"",
      "metadata": {
        "trusted": true
      },
      "outputs": [
        {
          "execution_count": 15,
          "output_type": "execute_result",
          "data": {
            "text/plain": "'\\nName: Madoyan\\nFavorite Food: Sushi\\nDream Job: Get paid to sleep.\\n'"
          },
          "metadata": {}
        }
      ],
      "execution_count": 15
    },
    {
      "cell_type": "code",
      "source": "# Assigning 5 different data types to 5 variables\nvar_int = 42\nvar_float = 3.14\nvar_str = \"Hello, World!\"\nvar_bool = True\nvar_list = [1, 2, 3, 4, 5]\n\n# Print the length of the string\nprint(\"Length of the string:\", len(var_str))\n\n# Print the index value of the 4th character in the string\nprint(\"Index value of the 4th character:\", var_str[3])\n",
      "metadata": {
        "trusted": true
      },
      "outputs": [
        {
          "name": "stdout",
          "text": "Length of the string: 13\nIndex value of the 4th character: l\n",
          "output_type": "stream"
        }
      ],
      "execution_count": 5
    },
    {
      "cell_type": "code",
      "source": "# Create a new variable called savvy\nsavvy = \"Learning Data Analytics and Python is Awesome!\"\n\n# Return a range of characters from \"ing\" up to before \"and\"\nsliced_savvy = savvy[savvy.find(\"ing\"):savvy.find(\"and\")]\n\n# Replace \"Awesome\" with \"great\" in the string\nsavvy = savvy.replace(\"Awesome\", \"great\")\n\n# Test and print the savvy string for the presence of \"Python\"\nprint(\"Does savvy contain 'Python'? :\", \"Python\" in savvy)\n\n# Print the results\nprint(\"Sliced savvy:\", sliced_savvy)\nprint(\"Modified savvy:\", savvy)\n",
      "metadata": {
        "trusted": true
      },
      "outputs": [
        {
          "name": "stdout",
          "text": "Does savvy contain 'Python'? : True\nSliced savvy: ing Data Analytics \nModified savvy: Learning Data Analytics and Python is great!\n",
          "output_type": "stream"
        }
      ],
      "execution_count": 6
    },
    {
      "cell_type": "code",
      "source": "# Create and assign variables using multi-variable naming method\nname, age, length = \"Madoyan\", 26, \"5 feet 4 inches\"\n\n# Format a new string called 'miniBio'\nminiBio = f\"Hi my name is {name}, I am {length} tall and {age} years old today.\"\n\n# Print 'miniBio'\nprint(miniBio)\n\n# Cast and print the age variable to a float\nfloat_age = float(age)\nprint(\"Age as float:\", float_age)",
      "metadata": {
        "trusted": true
      },
      "outputs": [
        {
          "name": "stdout",
          "text": "Hi my name is Madoyan, I am 5 feet 4 inches tall and 26 years old today.\nAge as float: 26.0\n",
          "output_type": "stream"
        }
      ],
      "execution_count": 8
    },
    {
      "cell_type": "code",
      "source": "# Create a list of at least 5 elements of mixed data types\noriginal_list = [1, \"apple\", 3.14, True, \"banana\"]\n\n# Replace a part of the list\noriginal_list[1] = \"orange\"\n\n# Append or insert several more items to the list\noriginal_list.append(42)\noriginal_list.insert(2, \"grape\")\n\n# Find and print the length of the list\nprint(\"Length of the original list:\", len(original_list))\n\n# Slice a sub-section of the 1st list and save it to a different 2nd list\nsecond_list = original_list[1:4]\n\n# Print the 2nd list\nprint(\"Second list:\", second_list)\n\n# Extend the original list with the 2nd list\noriginal_list.extend(second_list)\n\n# Create a new list called \"simList\" containing at least 5 elements of the same data type\nsimList = [10, 5, 3, 8, 1]\n\n# Sort \"simList\" and print the list\nsimList.sort()\nprint(\"Sorted simList:\", simList)\n\n# Copy the \"simList\" list to another 3rd list\nthird_list = simList.copy()\n\n# Add the 2nd and 3rd lists together into a 4th list\nfourth_list = second_list + third_list\n\n# Print the result\nprint(\"Fourth list:\", fourth_list)\n",
      "metadata": {
        "trusted": true
      },
      "outputs": [
        {
          "name": "stdout",
          "text": "Length of the original list: 7\nSecond list: ['orange', 'grape', 3.14]\nSorted simList: [1, 3, 5, 8, 10]\nFourth list: ['orange', 'grape', 3.14, 1, 3, 5, 8, 10]\n",
          "output_type": "stream"
        }
      ],
      "execution_count": 9
    },
    {
      "cell_type": "code",
      "source": "# Create a tuple of about 5 elements\nfirst_tuple = (10, 5, 7, 3, 8)\n\n# Multiply the tuple by 3 and save it to a new 2nd tuple\nsecond_tuple = first_tuple * 3\n\n# Access and print the 12th element from the 2nd tuple\nprint(\"12th element of the second tuple:\", second_tuple[11])\n\n# Sort the 2nd tuple and print it\nsorted_second_tuple = tuple(sorted(second_tuple))\nprint(\"Sorted second tuple:\", sorted_second_tuple)\n\n# Copy 4 specific elements from the 2nd tuple to a new 3rd tuple\nthird_tuple = second_tuple[2:6]\n\n# Unpack the 3rd tuple into 4 variables and print these variables\nvar1, var2, var3, var4 = third_tuple\nprint(\"Unpacked variables:\", var1, var2, var3, var4)\n\n# Create a 4th tuple with a single item 50 and print this tuple\nfourth_tuple = (50,)\n\n# Add the 2nd and 3rd tuples together into a 5th tuple and print the tuple\nfifth_tuple = second_tuple + third_tuple\nprint(\"Fifth tuple:\", fifth_tuple)\n",
      "metadata": {
        "trusted": true
      },
      "outputs": [
        {
          "name": "stdout",
          "text": "12th element of the second tuple: 5\nSorted second tuple: (3, 3, 3, 5, 5, 5, 7, 7, 7, 8, 8, 8, 10, 10, 10)\nUnpacked variables: 7 3 8 10\nFifth tuple: (10, 5, 7, 3, 8, 10, 5, 7, 3, 8, 10, 5, 7, 3, 8, 7, 3, 8, 10)\n",
          "output_type": "stream"
        }
      ],
      "execution_count": 10
    },
    {
      "cell_type": "code",
      "source": "# Create a set of about 3 elements\nfirst_set = {1, 2, 3}\n\n# Add a list of fruits to the above set and print the result\nfruits = [\"apple\", \"banana\", \"orange\"]\nfirst_set.update(fruits)\nprint(\"Updated first set with fruits:\", first_set)\n\n# Add a car element to your set\nfirst_set.add(\"car\")\n\n# Create a 2nd set with a few odd items\nsecond_set = {3, 5, 7, 9}\n\n# Save the union of the 1st set and 2nd set to a 3rd set\nthird_set = first_set.union(second_set)\n\n# Pop an element from the 2nd set and print the remainder of the set\npopped_element = second_set.pop()\nprint(\"Popped element from the second set:\", popped_element)\nprint(\"Remainder of the second set:\", second_set)\n\n# Clear the 1st set and print the result\nfirst_set.clear()\nprint(\"Cleared first set:\", first_set)\n\n# Discard an element and remove another element from the 3rd set\nthird_set.discard(\"car\")\nthird_set.remove(5)\n\n# Print the remainder of the 3rd set\nprint(\"Remainder of the third set:\", third_set)\n",
      "metadata": {
        "trusted": true
      },
      "outputs": [
        {
          "name": "stdout",
          "text": "Updated first set with fruits: {1, 2, 3, 'apple', 'orange', 'banana'}\nPopped element from the second set: 9\nRemainder of the second set: {3, 5, 7}\nCleared first set: set()\nRemainder of the third set: {1, 2, 3, 'apple', 'orange', 7, 9, 'banana'}\n",
          "output_type": "stream"
        }
      ],
      "execution_count": 11
    },
    {
      "cell_type": "code",
      "source": "# Create a dictionary with at least 5 values of different data types\nmy_dict = {\n    \"name\": \"Madoyan\",\n    \"age\": 26,\n    \"is_student\": False,\n    \"grades\": [90, 85, 92],\n    \"location\": (35.6895, 139.6917)\n}\n\n# Print out 1 value\nprint(\"Value for 'age':\", my_dict[\"age\"])\n\n# Replace any one value in your dictionary with your name\nmy_dict[\"name\"] = \"Madoyan\"\n\n# Add your favorite color to the dictionary\nmy_dict[\"favorite_color\"] = \"Blue\"\n\n# Add a list, tuple, or set to your dictionary\nmy_dict[\"interests\"] = [\"trying new restaurants\", \"hiking\", \"traveling\"]\n\n# Print a list of the dictionary keys\nprint(\"Dictionary keys:\", list(my_dict.keys()))\n\n# Print a list of the dictionary values\nprint(\"Dictionary values:\", list(my_dict.values()))\n\n# Copy your 1st dictionary into a 2nd dictionary\nsecond_dict = my_dict.copy()\n\n# Pop an item from the 2nd dictionary and print the dictionary\npopped_item = second_dict.pop(\"is_student\")\nprint(\"Popped item from the second dictionary:\", popped_item)\nprint(\"Second dictionary after popping:\", second_dict)\n\n# Remove all elements from the 2nd dictionary and print the result\nsecond_dict.clear()\nprint(\"Cleared second dictionary:\", second_dict)\n",
      "metadata": {
        "trusted": true
      },
      "outputs": [
        {
          "name": "stdout",
          "text": "Value for 'age': 26\nDictionary keys: ['name', 'age', 'is_student', 'grades', 'location', 'favorite_color', 'interests']\nDictionary values: ['Madoyan', 26, False, [90, 85, 92], (35.6895, 139.6917), 'Blue', ['trying new restaurants', 'hiking', 'traveling']]\nPopped item from the second dictionary: False\nSecond dictionary after popping: {'name': 'Madoyan', 'age': 26, 'grades': [90, 85, 92], 'location': (35.6895, 139.6917), 'favorite_color': 'Blue', 'interests': ['trying new restaurants', 'hiking', 'traveling']}\nCleared second dictionary: {}\n",
          "output_type": "stream"
        }
      ],
      "execution_count": 14
    },
    {
      "cell_type": "code",
      "source": "",
      "metadata": {
        "trusted": true
      },
      "outputs": [],
      "execution_count": null
    }
  ]
}