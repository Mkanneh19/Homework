{
  "metadata": {
    "kernelspec": {
      "name": "python",
      "display_name": "Python (Pyodide)",
      "language": "python"
    },
    "language_info": {
      "codemirror_mode": {
        "name": "python",
        "version": 3
      },
      "file_extension": ".py",
      "mimetype": "text/x-python",
      "name": "python",
      "nbconvert_exporter": "python",
      "pygments_lexer": "ipython3",
      "version": "3.8"
    }
  },
  "nbformat_minor": 4,
  "nbformat": 4,
  "cells": [
    {
      "cell_type": "markdown",
      "source": "#Section 7.1",
      "metadata": {}
    },
    {
      "cell_type": "markdown",
      "source": "1. Using EVregistry, Write a query to select the ModelYear, Make, and Model off all of the vehicles in the registry.\n\nSELECT ModelYear, Make, Model FROM EVRegistry",
      "metadata": {}
    },
    {
      "cell_type": "markdown",
      "source": "2. Using the EVRegistry table, Write a query that lists all of the unique types of EV's. your reult set should have one column, ElectricVehicleType.\n\nSELECT DISTINCT ElectricVehicleType \nFROM EVRegistry",
      "metadata": {}
    },
    {
      "cell_type": "markdown",
      "source": "3. Using the EVRegistry, Write a query that shows all of the information on Battery Electric Vehicles (BEV) that are in the registry.\n\nSELECT * FROM EVRegistry\nWHERE ElectricVehicleType = \"Battery Electric Vehicle (BEV)\"",
      "metadata": {}
    },
    {
      "cell_type": "markdown",
      "source": "4. Using the EVRegistry, wirte a query that returns the Make and Model of all of the EV's that have a BaseMSRP between 20000 and 35000?\n\nSELECT Make, Model FROM EVRegistry\nWHERE BaseMSRP > 20000 and BaseMSRP < 35000",
      "metadata": {}
    },
    {
      "cell_type": "markdown",
      "source": "#Section 7.2",
      "metadata": {}
    },
    {
      "cell_type": "markdown",
      "source": "1. Using EVRegistry, write a query to find a record where the City attribute is NULL. Return all of the available columns.\n\nSELECT City FROM EVRegistry\nWHERE City is NULL",
      "metadata": {}
    },
    {
      "cell_type": "markdown",
      "source": "2. Write a query to find the make, model, and ElectricVehicleType where the VIN number has that ends in '3E1EA1J'.\n\nSELECT Make, Model, ElectricVehicleType FROM EVRegistry\nwhere VIN LIKE '%3E1EA1J'",
      "metadata": {}
    },
    {
      "cell_type": "markdown",
      "source": "3. Select the ModelYear, make, model, ElectricVehicleType, and range of the Tesla vehicles or cheverolet vehicles in the registry. Order the result set by Make and Model year in from newest to oldest.\n\nSELECT ModelYear, Make, Model, ElectricVehicleType, ElectricRange FROM EVRegistry\nWHERE Make = 'CHEVROLET' or Make = 'TESLA'\nORDER BY Make, ModelYear DESC ",
      "metadata": {}
    },
    {
      "cell_type": "markdown",
      "source": "4. Using EVCharging, Write a query to find out how many many times those stations were used. Order them by the most used to the least used and limit the output to 5 records.\n\nSELECT stationId, count(*) as uses\nFROM EVCharging\nGROUP by stationId\nORDER by uses DESC\nLIMIT 5",
      "metadata": {}
    },
    {
      "cell_type": "markdown",
      "source": "5. Using EVCharging, For the folks who charged longer than 0.5 hours, show the min and max of the charging time for each user. Your output columns should be userid, minTime, and maxTime. Order this result set by the last two columns respectively.\n\n\nSELECT userId, \n\tmax(chargeTimeMins) as maxTime, \n\tmin(chargeTimeMins) as minTime \nfrom EVCharging\nWHERE chargeTimeMins > 30\nGROUP by userId\norder by maxTime, minTime ",
      "metadata": {}
    },
    {
      "cell_type": "markdown",
      "source": "#Section 7.3",
      "metadata": {}
    },
    {
      "cell_type": "markdown",
      "source": "1. Using EVCharging, Which day of the week has the highest average charging time? Round the answer to 2 decimal points.\n\nSELECT weekday,\nround(sum(chargeTimeHrs), 2) as avgChrgTime\nFROM EVCharging\nGROUP by weekday\nORDER by avgChrgTime DESC\nLIMIT 1",
      "metadata": {}
    },
    {
      "cell_type": "markdown",
      "source": "2. Using, EV charging, Find the total power consumed from charging EV's by each User. Return the userId and name the calculated column, \ntotalPower. Round the answer to 2 deciaml points and list the out put in highest to lowest order. Limit the order to the top 15 users.\n\nSELECT userId,\nround(sum(kwhTotal), 2) as totalPower\nFROM EVCharging\nGROUP by userId\nORDER by totalPower DESC\nLIMIT 15",
      "metadata": {}
    },
    {
      "cell_type": "markdown",
      "source": "3. Using dimfacility and factCharge, write a query to find out which type of facility (GROUP BY) has the most amount of charging stations.\nReturn type Facility and name the calculated column numStation. Order the result set from highest to lowest number of charging stations.\n\nSELECT typeFacility, \ncount(stationId) as numStation\nFROM factCharge\nINNER JOIN dimFacility\non factCharge.facilityID = dimFacility.FacilityKey\nGROUP by typeFacility\nORDER by numStation DESC",
      "metadata": {}
    },
    {
      "cell_type": "markdown",
      "source": "4. In your own words, Briefly explain Primary Keys and Foreign Keys.\n\n- Primary Keys are the unique IDs for each record that existins in our tables. Foreign keys in a table refer to the primay key/connected \ntable.",
      "metadata": {}
    },
    {
      "cell_type": "markdown",
      "source": "5. Using EV Charging, For the folks who charged longer than one hour, show the min and max of the charging time for each user. Your output \ncolumns should be userid, minTime, and maxTime. Order this result set by the last two columns respectively. HINT: USE HAVING\n\nSELECT userId,\nmin(chargeTimeHrs) as minTime,\nmax(chargeTimeHrs) as maxTIme\nfrom EVCharging\nGROUP by userId\nHAVING minTime > 1\nORDER by 2,3 ",
      "metadata": {}
    }
  ]
}