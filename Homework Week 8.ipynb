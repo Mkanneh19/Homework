{
  "metadata": {
    "kernelspec": {
      "name": "python",
      "display_name": "Python (Pyodide)",
      "language": "python"
    },
    "language_info": {
      "codemirror_mode": {
        "name": "python",
        "version": 3
      },
      "file_extension": ".py",
      "mimetype": "text/x-python",
      "name": "python",
      "nbconvert_exporter": "python",
      "pygments_lexer": "ipython3",
      "version": "3.8"
    }
  },
  "nbformat_minor": 4,
  "nbformat": 4,
  "cells": [
    {
      "cell_type": "code",
      "source": "Section 1\n\nSELECT Accel FROM EVCARS\n\nSELECT Accel,\tRTRIM(Accel, 'sec')\nFROM EVCARS\n\nUPDATE EVCARS\nSET Accel = \tRTRIM(Accel, 'sec')\n\nALTER TABLE EVCARS\nRENAME Accel to \"AccelSec\"\n\nSELECT Accelsec from EVCARS",
      "metadata": {
        "trusted": true
      },
      "outputs": [],
      "execution_count": null
    },
    {
      "cell_type": "code",
      "source": "Section 2\n\n2.1\nSELECT TopSpeed FROM EVCARS\n\nSELECT TopSpeed, rtrim(TopSpeed, \"km/h\")\nFROM EVCAR\n\nUPDATE EVCARS\nSET TopSpeed = \tRTRIM(TopSpeed, 'km/h')\n\nSELECT Topspeedkm/h from EVCARS\n\n2.6\n\nSELECT TopSpeed AS ORIGINALTOPSPEED,\nround(TopSpeed * 0.621371, 1) AS TOPSPEEDPMH\nFROM EVCARS\n\nUPDATE EVCARS\nSET TopSpeed = round(TopSpeed * 0.621371, 1) ;\n\nALTER TABLE EVCARS\nRENAME Topspeed to \"TopspeedMPH\"\n\nSELECT *\nFROM EVCARS",
      "metadata": {
        "trusted": true
      },
      "outputs": [],
      "execution_count": null
    },
    {
      "cell_type": "code",
      "source": "Section 3\n\nSELECT Range from EVCARS\n\nSELECT Range,\tRTRIM(Range, 'km')\nFROM EVCARS\n\nUPDATE EVCARS\nSET Range = \tRTRIM(Range, 'km')\n\n3.6\n\nSELECT Range AS ORIGINALRANGE,\nround(Range * 0.621371, 1) AS RANGEMILES\nFROM EVCARS\n\nUPDATE EVCARS\nSET Range = round(Range * 0.621371, 1) ;\n\nALTER TABLE EVCARS\nRENAME Range to \"rangeMiles\"\n\nSELECT *\nFROM EVCARS",
      "metadata": {
        "trusted": true
      },
      "outputs": [],
      "execution_count": null
    },
    {
      "cell_type": "code",
      "source": "Section 4\n\nSELECT  Efficiency, FastCharge\nfrom EVCARS\n\nSELECT  Efficiency, FastCharge, rtrim(Efficiency, 'Wh/km'),  rtrim(FastCharge, 'km/h')\nFROM EVCARS\n\nUPDATE EVCARS\nSET Efficiency = rtrim(Efficiency, 'Wh/km'), FastCharge =  rtrim(FastCharge, 'km/h')\n\nSELECT  Efficiency, FastCharge\nfrom EVCARS\n\n4.6\n\nSELECT FASRCHARGE AS ORIGINALFASTCHARGE,\nround(FASTCHARGE * 0.621371, 1) AS ONEHOURFASTCHARGEMILES\nFROM EVCARS\n\nUPDATE EVCARS\nSET Fastcharge = round(Fastcharge * 0.621371, 1) ;\n\nALTER TABLE EVCARS\nRENAME Efficiency to \"efficiencyWHperKM\"\n\nALTER TABLE EVCARS\nRENAME FASTCHARGE to \"OneHourFastChargeMiles\"\n\nSELECT *\nFROM EVCARS",
      "metadata": {
        "trusted": true
      },
      "outputs": [],
      "execution_count": null
    },
    {
      "cell_type": "code",
      "source": "Section 5\n\nSELECT RapidCharge, count (*)\nFROM EVCARS\nGROUP BY RapidCharge\n\nUPDATE EVCARS\nSET RapidCharge = \nCASE\n    WHEN RapidCharge = 'RAPIDCHARGE' THEN 'Yes'\n    WHEN RapidCharge = 'RAPIDCHARGE NOT POSSIBLE' THEN 'No'\n    ELSE RapidCharge  -- Keep the existing value if it doesn't match the specified conditions\n  END;\n\n\nFor the purpose of this exercise, if the car's RapidCharge value equals RAPIDCHARGE then I want you to change the value to 'Yes'\nIf the RapidCharge value equals RAPIDCHARGE NOT POSSIBLE then I want you to change the value to 'No'.",
      "metadata": {
        "trusted": true
      },
      "outputs": [],
      "execution_count": null
    },
    {
      "cell_type": "code",
      "source": "Section 6\n\nSELECT POWERTRAIN, count (*)\nFROM EVCARS\nGROUP BY POWERTRAIN\n\nAll Wheel Drive\t\nFront Wheel Drive\t\nRear Wheel Drive\t\n\nlook at the three DISTINCT values from the query you wrote in 6.1 and fill in the blanks.\nIf the PowerTrain equals ALL WHEEL DRIVE then I want you to change the value to 'AWD'\nIf the PowerTrain equals REAR WHEEL DRIVE then I want you to change the value to 'RWD'\nIf the PowerTrain equals FRONT WHEEL DRIVE then I want you to change the value to 'FWD'\n\nUPDATE EvCars\nSET PowerTrain = 'AWD'\nWHERE PowerTrain = 'All Wheel Drive'\nUPDATE EvCars\nSET PowerTrain = 'RWD'\nWHERE PowerTrain = 'Rear Wheel Drive'\nUPDATE EvCars\nSET PowerTrain = 'FWD'\nWHERE PowerTrain = 'Front Wheel Drive'\n\nSELECT *\nFROM EVCARS",
      "metadata": {
        "trusted": true
      },
      "outputs": [],
      "execution_count": null
    },
    {
      "cell_type": "code",
      "source": "Section 7\n\n--Write a select statement to multiply the PriceEuro by 1.09 and Return PriceEuro and calculated column. Round the calculated column to 2 decimal places.\n\nSELECT PriceEuro, ROUND(PriceEuro * 1.09, 2) \nFROM EvCars\n\nUPDATE EvCars \nSET PriceEuro = ROUND(PriceEuro * 1.09, 2) \n\nALTER TABLE EvCars\nRENAME PriceEuro to PriceUSD",
      "metadata": {
        "trusted": true
      },
      "outputs": [],
      "execution_count": null
    }
  ]
}